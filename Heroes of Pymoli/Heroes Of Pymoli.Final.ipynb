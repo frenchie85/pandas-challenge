{
 "cells": [
  {
   "cell_type": "code",
   "execution_count": 19,
   "metadata": {},
   "outputs": [
    {
     "output_type": "execute_result",
     "data": {
      "text/plain": "   Purchase ID             SN  Age Gender  Item ID  \\\n0            0        Lisim78   20   Male      108   \n1            1    Lisovynya38   40   Male      143   \n2            2     Ithergue48   24   Male       92   \n3            3  Chamassasya86   24   Male      100   \n4            4      Iskosia90   23   Male      131   \n\n                                   Item Name  Price  \n0  Extraction, Quickblade Of Trembling Hands   3.53  \n1                          Frenzied Scimitar   1.56  \n2                               Final Critic   4.88  \n3                                Blindscythe   3.27  \n4                                       Fury   1.44  ",
      "text/html": "<div>\n<style scoped>\n    .dataframe tbody tr th:only-of-type {\n        vertical-align: middle;\n    }\n\n    .dataframe tbody tr th {\n        vertical-align: top;\n    }\n\n    .dataframe thead th {\n        text-align: right;\n    }\n</style>\n<table border=\"1\" class=\"dataframe\">\n  <thead>\n    <tr style=\"text-align: right;\">\n      <th></th>\n      <th>Purchase ID</th>\n      <th>SN</th>\n      <th>Age</th>\n      <th>Gender</th>\n      <th>Item ID</th>\n      <th>Item Name</th>\n      <th>Price</th>\n    </tr>\n  </thead>\n  <tbody>\n    <tr>\n      <th>0</th>\n      <td>0</td>\n      <td>Lisim78</td>\n      <td>20</td>\n      <td>Male</td>\n      <td>108</td>\n      <td>Extraction, Quickblade Of Trembling Hands</td>\n      <td>3.53</td>\n    </tr>\n    <tr>\n      <th>1</th>\n      <td>1</td>\n      <td>Lisovynya38</td>\n      <td>40</td>\n      <td>Male</td>\n      <td>143</td>\n      <td>Frenzied Scimitar</td>\n      <td>1.56</td>\n    </tr>\n    <tr>\n      <th>2</th>\n      <td>2</td>\n      <td>Ithergue48</td>\n      <td>24</td>\n      <td>Male</td>\n      <td>92</td>\n      <td>Final Critic</td>\n      <td>4.88</td>\n    </tr>\n    <tr>\n      <th>3</th>\n      <td>3</td>\n      <td>Chamassasya86</td>\n      <td>24</td>\n      <td>Male</td>\n      <td>100</td>\n      <td>Blindscythe</td>\n      <td>3.27</td>\n    </tr>\n    <tr>\n      <th>4</th>\n      <td>4</td>\n      <td>Iskosia90</td>\n      <td>23</td>\n      <td>Male</td>\n      <td>131</td>\n      <td>Fury</td>\n      <td>1.44</td>\n    </tr>\n  </tbody>\n</table>\n</div>"
     },
     "metadata": {},
     "execution_count": 19
    }
   ],
   "source": [
    "# Dependencies and Setup\n",
    "import pandas as pd\n",
    "import numpy as np\n",
    "\n",
    "# File to Load (Remember to Change These)\n",
    "file_to_load = \"Resources/purchase_data.csv\"\n",
    "\n",
    "# Read Purchasing File and store into Pandas data frame\n",
    "purchase_data = pd.read_csv(file_to_load, encoding=\"ISO-8859-1\")\n",
    "purchase_data.head()"
   ]
  },
  {
   "cell_type": "code",
   "execution_count": 3,
   "metadata": {},
   "outputs": [
    {
     "output_type": "execute_result",
     "data": {
      "text/plain": "   Total Players\n0            576",
      "text/html": "<div>\n<style scoped>\n    .dataframe tbody tr th:only-of-type {\n        vertical-align: middle;\n    }\n\n    .dataframe tbody tr th {\n        vertical-align: top;\n    }\n\n    .dataframe thead th {\n        text-align: right;\n    }\n</style>\n<table border=\"1\" class=\"dataframe\">\n  <thead>\n    <tr style=\"text-align: right;\">\n      <th></th>\n      <th>Total Players</th>\n    </tr>\n  </thead>\n  <tbody>\n    <tr>\n      <th>0</th>\n      <td>576</td>\n    </tr>\n  </tbody>\n</table>\n</div>"
     },
     "metadata": {},
     "execution_count": 3
    }
   ],
   "source": [
    "\n",
    "# Total Number of Players\n",
    "player_count = len(purchase_data[\"SN\"].unique())\n",
    "player_count\n",
    "\n",
    "# Create Summary DataFrame\n",
    "player_count_table = pd.DataFrame({\"Total Players\": [player_count]})\n",
    "player_count_table"
   ]
  },
  {
   "cell_type": "code",
   "execution_count": 4,
   "metadata": {},
   "outputs": [
    {
     "output_type": "execute_result",
     "data": {
      "text/plain": "   Number of Unique Items Average Price  Number of Purchases Total Revenue\n0                     179         $3.05                  780     $2,379.77",
      "text/html": "<div>\n<style scoped>\n    .dataframe tbody tr th:only-of-type {\n        vertical-align: middle;\n    }\n\n    .dataframe tbody tr th {\n        vertical-align: top;\n    }\n\n    .dataframe thead th {\n        text-align: right;\n    }\n</style>\n<table border=\"1\" class=\"dataframe\">\n  <thead>\n    <tr style=\"text-align: right;\">\n      <th></th>\n      <th>Number of Unique Items</th>\n      <th>Average Price</th>\n      <th>Number of Purchases</th>\n      <th>Total Revenue</th>\n    </tr>\n  </thead>\n  <tbody>\n    <tr>\n      <th>0</th>\n      <td>179</td>\n      <td>$3.05</td>\n      <td>780</td>\n      <td>$2,379.77</td>\n    </tr>\n  </tbody>\n</table>\n</div>"
     },
     "metadata": {},
     "execution_count": 4
    }
   ],
   "source": [
    "unique_items_count = len(purchase_data[\"Item ID\"].unique())\n",
    "\n",
    "# Average Purchase Price\n",
    "avg_purchase_price = purchase_data[\"Price\"].mean()\n",
    "\n",
    "# Total Number of Purchases\n",
    "total_purchases = len(purchase_data[\"Purchase ID\"].unique())\n",
    "\n",
    "# Total Revenue\n",
    "total_revenue = purchase_data[\"Price\"].sum()\n",
    "\n",
    "# Create Summary DataFrame\n",
    "purchasing_analysis_table = pd.DataFrame([{\n",
    "    \"Number of Unique Items\": unique_items_count, \n",
    "    \"Average Price\": avg_purchase_price,\n",
    "    \"Number of Purchases\": total_purchases,\n",
    "    \"Total Revenue\": total_revenue,\n",
    "}], columns=[\"Number of Unique Items\", \"Average Price\", \"Number of Purchases\", \"Total Revenue\"])\n",
    "\n",
    "purchasing_analysis_table[\"Average Price\"] = purchasing_analysis_table[\"Average Price\"].map(\"${0:.2f}\".format)\n",
    "purchasing_analysis_table[\"Total Revenue\"] = purchasing_analysis_table[\"Total Revenue\"].map(\"${0:,.2f}\".format)\n",
    "purchasing_analysis_table"
   ]
  },
  {
   "cell_type": "code",
   "execution_count": 5,
   "metadata": {},
   "outputs": [
    {
     "output_type": "execute_result",
     "data": {
      "text/plain": "                       Total Count Percentage of Players\nMale                           484                84.03%\nFemale                          81                14.06%\nOther / Non-Disclosed           11                 1.91%",
      "text/html": "<div>\n<style scoped>\n    .dataframe tbody tr th:only-of-type {\n        vertical-align: middle;\n    }\n\n    .dataframe tbody tr th {\n        vertical-align: top;\n    }\n\n    .dataframe thead th {\n        text-align: right;\n    }\n</style>\n<table border=\"1\" class=\"dataframe\">\n  <thead>\n    <tr style=\"text-align: right;\">\n      <th></th>\n      <th>Total Count</th>\n      <th>Percentage of Players</th>\n    </tr>\n  </thead>\n  <tbody>\n    <tr>\n      <th>Male</th>\n      <td>484</td>\n      <td>84.03%</td>\n    </tr>\n    <tr>\n      <th>Female</th>\n      <td>81</td>\n      <td>14.06%</td>\n    </tr>\n    <tr>\n      <th>Other / Non-Disclosed</th>\n      <td>11</td>\n      <td>1.91%</td>\n    </tr>\n  </tbody>\n</table>\n</div>"
     },
     "metadata": {},
     "execution_count": 5
    }
   ],
   "source": [
    "# Count & Percentage of Male Players\n",
    "male_players = purchase_data.loc[purchase_data[\"Gender\"] == \"Male\"]\n",
    "male_count = len(male_players[\"SN\"].unique())\n",
    "male_percent = \"{:.2f}%\".format(male_count / player_count * 100)\n",
    "\n",
    "# Count & Percentage of Female Players\n",
    "female_players = purchase_data.loc[purchase_data[\"Gender\"] == \"Female\"]\n",
    "female_count = len(female_players[\"SN\"].unique())\n",
    "female_percent = \"{:.2f}%\".format(female_count / player_count * 100)\n",
    "\n",
    "# Count & Percentage of Other / Non-Disclosed\n",
    "other_players = purchase_data.loc[purchase_data[\"Gender\"] == \"Other / Non-Disclosed\"]\n",
    "other_count = len(other_players[\"SN\"].unique())\n",
    "other_percent = \"{:.2f}%\".format(other_count / player_count * 100)\n",
    "\n",
    "# Create Summary DataFrame\n",
    "gender_demographics_table = pd.DataFrame([{\n",
    "    \"Gender\": \"Male\", \"Total Count\": male_count, \n",
    "    \"Percentage of Players\": male_percent}, \n",
    "    {\"Gender\": \"Female\", \"Total Count\": female_count, \n",
    "     \"Percentage of Players\": female_percent}, \n",
    "    {\"Gender\": \"Other / Non-Disclosed\", \"Total Count\": other_count, \n",
    "     \"Percentage of Players\": other_percent\n",
    "    }], columns=[\"Gender\", \"Total Count\", \"Percentage of Players\"])\n",
    "\n",
    "gender_demographics_table = gender_demographics_table.set_index(\"Gender\")\n",
    "gender_demographics_table.index.name = None\n",
    "gender_demographics_table"
   ]
  },
  {
   "cell_type": "code",
   "execution_count": 6,
   "metadata": {},
   "outputs": [
    {
     "output_type": "execute_result",
     "data": {
      "text/plain": "                       Purchase Count Average Purchase Price  \\\nFemale                            113                  $3.20   \nMale                              652                  $3.02   \nOther / Non-Disclosed              15                  $3.35   \n\n                      Total Purchase Value Avg Total Purchase per Person  \nFemale                             $361.94                         $4.47  \nMale                             $1,967.64                         $4.07  \nOther / Non-Disclosed               $50.19                         $4.56  ",
      "text/html": "<div>\n<style scoped>\n    .dataframe tbody tr th:only-of-type {\n        vertical-align: middle;\n    }\n\n    .dataframe tbody tr th {\n        vertical-align: top;\n    }\n\n    .dataframe thead th {\n        text-align: right;\n    }\n</style>\n<table border=\"1\" class=\"dataframe\">\n  <thead>\n    <tr style=\"text-align: right;\">\n      <th></th>\n      <th>Purchase Count</th>\n      <th>Average Purchase Price</th>\n      <th>Total Purchase Value</th>\n      <th>Avg Total Purchase per Person</th>\n    </tr>\n  </thead>\n  <tbody>\n    <tr>\n      <th>Female</th>\n      <td>113</td>\n      <td>$3.20</td>\n      <td>$361.94</td>\n      <td>$4.47</td>\n    </tr>\n    <tr>\n      <th>Male</th>\n      <td>652</td>\n      <td>$3.02</td>\n      <td>$1,967.64</td>\n      <td>$4.07</td>\n    </tr>\n    <tr>\n      <th>Other / Non-Disclosed</th>\n      <td>15</td>\n      <td>$3.35</td>\n      <td>$50.19</td>\n      <td>$4.56</td>\n    </tr>\n  </tbody>\n</table>\n</div>"
     },
     "metadata": {},
     "execution_count": 6
    }
   ],
   "source": [
    "# Purchase Count of Male Players\n",
    "male_purchase_data = purchase_data.loc[purchase_data[\"Gender\"] == \"Male\", :]\n",
    "male_purchase_count = len(male_purchase_data)\n",
    "\n",
    "# Average Purchase Price of Male Players\n",
    "avg_male_purchase_price = purchase_data.loc[purchase_data[\"Gender\"] == \"Male\", [\"Price\"]].mean()\n",
    "\n",
    "# Total Purchase Value of Male Players\n",
    "total_male_purchase_value = purchase_data.loc[purchase_data[\"Gender\"] == \"Male\", [\"Price\"]].sum()\n",
    "\n",
    "# Purchase Count of Female Players\n",
    "female_purchase_data = purchase_data.loc[purchase_data[\"Gender\"] == \"Female\", :]\n",
    "female_purchase_count = len(female_purchase_data)\n",
    "\n",
    "# Average Purchase Price of Female Players\n",
    "avg_female_purchase_price = purchase_data.loc[purchase_data[\"Gender\"] == \"Female\", [\"Price\"]].mean()\n",
    "\n",
    "# Total Purchase Value of Female Players\n",
    "total_female_purchase_value = purchase_data.loc[purchase_data[\"Gender\"] == \"Female\", [\"Price\"]].sum()\n",
    "\n",
    "# Purchase Count of Other / Non-Disclosed Players\n",
    "other_purchase_data = purchase_data.loc[purchase_data[\"Gender\"] == \"Other / Non-Disclosed\", :]\n",
    "other_purchase_count = len(other_purchase_data)\n",
    "\n",
    "# Average Purchase Price of Other / Non-Disclosed Players\n",
    "avg_other_purchase_price = purchase_data.loc[purchase_data[\"Gender\"] == \"Other / Non-Disclosed\", [\"Price\"]].mean()\n",
    "\n",
    "# Total Purchase Value of Other / Non-Disclosed Players\n",
    "total_other_purchase_value = purchase_data.loc[purchase_data[\"Gender\"] == \"Other / Non-Disclosed\", [\"Price\"]].sum()\n",
    "\n",
    "# Average Purchase Total per Person by Gender\n",
    "avg_male_purchase_total_person = total_male_purchase_value / male_count\n",
    "avg_female_purchase_total_person = total_female_purchase_value / female_count\n",
    "avg_other_purchase_total_person = total_other_purchase_value / other_count\n",
    "\n",
    "# Create Summary DataFrame\n",
    "gender_purchasing_analysis_table = pd.DataFrame([{\n",
    "    \"Gender\": \"Female\", \"Purchase Count\": female_purchase_count, \n",
    "    \"Average Purchase Price\": \"${:.2f}\".format(avg_female_purchase_price[0]), \n",
    "    \"Total Purchase Value\": \"${:.2f}\".format(total_female_purchase_value[0]), \n",
    "    \"Avg Total Purchase per Person\": \"${:.2f}\".format(avg_female_purchase_total_person[0])}, \n",
    "    {\"Gender\": \"Male\", \"Purchase Count\": male_purchase_count, \n",
    "     \"Average Purchase Price\": \"${:.2f}\".format(avg_male_purchase_price[0]), \n",
    "     \"Total Purchase Value\": \"${:,.2f}\".format(total_male_purchase_value[0]), \n",
    "     \"Avg Total Purchase per Person\": \"${:.2f}\".format(avg_male_purchase_total_person[0])}, \n",
    "    {\"Gender\": \"Other / Non-Disclosed\", \"Purchase Count\": other_purchase_count, \n",
    "     \"Average Purchase Price\": \"${:.2f}\".format(avg_other_purchase_price[0]), \n",
    "     \"Total Purchase Value\": \"${:.2f}\".format(total_other_purchase_value[0]), \n",
    "     \"Avg Total Purchase per Person\": \"${:.2f}\".format(avg_other_purchase_total_person[0])\n",
    "    }], columns=[\"Gender\", \"Purchase Count\", \"Average Purchase Price\", \"Total Purchase Value\", \"Avg Total Purchase per Person\"])\n",
    "\n",
    "gender_purchasing_analysis_table = gender_purchasing_analysis_table.set_index(\"Gender\")\n",
    "gender_purchasing_analysis_table.index.name = None\n",
    "gender_purchasing_analysis_table"
   ]
  },
  {
   "cell_type": "code",
   "execution_count": 8,
   "metadata": {},
   "outputs": [
    {
     "output_type": "execute_result",
     "data": {
      "text/plain": "       Total Count Percentage of Players\n<10             17                 2.95%\n10-14           22                 3.82%\n15-19          107                18.58%\n20-24          258                44.79%\n25-29           77                13.37%\n30-34           52                 9.03%\n35-39           31                 5.38%\n40+             12                 2.08%",
      "text/html": "<div>\n<style scoped>\n    .dataframe tbody tr th:only-of-type {\n        vertical-align: middle;\n    }\n\n    .dataframe tbody tr th {\n        vertical-align: top;\n    }\n\n    .dataframe thead th {\n        text-align: right;\n    }\n</style>\n<table border=\"1\" class=\"dataframe\">\n  <thead>\n    <tr style=\"text-align: right;\">\n      <th></th>\n      <th>Total Count</th>\n      <th>Percentage of Players</th>\n    </tr>\n  </thead>\n  <tbody>\n    <tr>\n      <th>&lt;10</th>\n      <td>17</td>\n      <td>2.95%</td>\n    </tr>\n    <tr>\n      <th>10-14</th>\n      <td>22</td>\n      <td>3.82%</td>\n    </tr>\n    <tr>\n      <th>15-19</th>\n      <td>107</td>\n      <td>18.58%</td>\n    </tr>\n    <tr>\n      <th>20-24</th>\n      <td>258</td>\n      <td>44.79%</td>\n    </tr>\n    <tr>\n      <th>25-29</th>\n      <td>77</td>\n      <td>13.37%</td>\n    </tr>\n    <tr>\n      <th>30-34</th>\n      <td>52</td>\n      <td>9.03%</td>\n    </tr>\n    <tr>\n      <th>35-39</th>\n      <td>31</td>\n      <td>5.38%</td>\n    </tr>\n    <tr>\n      <th>40+</th>\n      <td>12</td>\n      <td>2.08%</td>\n    </tr>\n  </tbody>\n</table>\n</div>"
     },
     "metadata": {},
     "execution_count": 8
    }
   ],
   "source": [
    " # Figure Out Minimum and Maximum Ages\n",
    "# print(purchase_data[\"Age\"].max())\n",
    "# print(purchase_data[\"Age\"].min())\n",
    "\n",
    "# Establish Bins for Ages & Create Corresponding Names For Bins\n",
    "age_bins = [0, 9, 14, 19, 24, 29, 34, 39, 46]\n",
    "groups_names = [\"<10\", \"10-14\", \"15-19\", \"20-24\", \"25-29\", \"30-34\", \"35-39\", \"40+\"]\n",
    "\n",
    "# Place Data Series Into New Column Inside DataFrame\n",
    "purchase_data[\"Age Group\"] = pd.cut(purchase_data[\"Age\"], bins=age_bins, labels=groups_names)\n",
    "purchase_data\n",
    "\n",
    "# Create a GroupBy Object Based Upon \"Age Group\"\n",
    "age_group = purchase_data.groupby(\"Age Group\")\n",
    "\n",
    "# Count Total Players by Age Category\n",
    "total_count_age = age_group[\"SN\"].nunique()\n",
    "\n",
    "# Calculate Percentages by Age Category \n",
    "percentage_by_age = round(total_count_age / player_count * 100,2)\n",
    "\n",
    "# Create Summary DataFrame\n",
    "age_demographics_table = pd.DataFrame({\n",
    "    \"Total Count\": total_count_age, \n",
    "    \"Percentage of Players\": percentage_by_age\n",
    "})\n",
    "\n",
    "age_demographics_table[\"Percentage of Players\"] = age_demographics_table[\"Percentage of Players\"].map(\"{0:,.2f}%\".format)\n",
    "age_demographics_table.index.name = None\n",
    "age_demographics_table"
   ]
  },
  {
   "cell_type": "code",
   "execution_count": 9,
   "metadata": {},
   "outputs": [
    {
     "output_type": "execute_result",
     "data": {
      "text/plain": "       Purchase Count Average Purchase Price Total Purchase Value  \\\n<10                23                  $3.35               $77.13   \n10-14              28                  $2.96               $82.78   \n15-19             136                  $3.04              $412.89   \n20-24             365                  $3.05            $1,114.06   \n25-29             101                  $2.90              $293.00   \n30-34              73                  $2.93              $214.00   \n35-39              41                  $3.60              $147.67   \n40+                13                  $2.94               $38.24   \n\n      Avg Total Purchase per Person  \n<10                           $4.54  \n10-14                         $3.76  \n15-19                         $3.86  \n20-24                         $4.32  \n25-29                         $3.81  \n30-34                         $4.12  \n35-39                         $4.76  \n40+                           $3.19  ",
      "text/html": "<div>\n<style scoped>\n    .dataframe tbody tr th:only-of-type {\n        vertical-align: middle;\n    }\n\n    .dataframe tbody tr th {\n        vertical-align: top;\n    }\n\n    .dataframe thead th {\n        text-align: right;\n    }\n</style>\n<table border=\"1\" class=\"dataframe\">\n  <thead>\n    <tr style=\"text-align: right;\">\n      <th></th>\n      <th>Purchase Count</th>\n      <th>Average Purchase Price</th>\n      <th>Total Purchase Value</th>\n      <th>Avg Total Purchase per Person</th>\n    </tr>\n  </thead>\n  <tbody>\n    <tr>\n      <th>&lt;10</th>\n      <td>23</td>\n      <td>$3.35</td>\n      <td>$77.13</td>\n      <td>$4.54</td>\n    </tr>\n    <tr>\n      <th>10-14</th>\n      <td>28</td>\n      <td>$2.96</td>\n      <td>$82.78</td>\n      <td>$3.76</td>\n    </tr>\n    <tr>\n      <th>15-19</th>\n      <td>136</td>\n      <td>$3.04</td>\n      <td>$412.89</td>\n      <td>$3.86</td>\n    </tr>\n    <tr>\n      <th>20-24</th>\n      <td>365</td>\n      <td>$3.05</td>\n      <td>$1,114.06</td>\n      <td>$4.32</td>\n    </tr>\n    <tr>\n      <th>25-29</th>\n      <td>101</td>\n      <td>$2.90</td>\n      <td>$293.00</td>\n      <td>$3.81</td>\n    </tr>\n    <tr>\n      <th>30-34</th>\n      <td>73</td>\n      <td>$2.93</td>\n      <td>$214.00</td>\n      <td>$4.12</td>\n    </tr>\n    <tr>\n      <th>35-39</th>\n      <td>41</td>\n      <td>$3.60</td>\n      <td>$147.67</td>\n      <td>$4.76</td>\n    </tr>\n    <tr>\n      <th>40+</th>\n      <td>13</td>\n      <td>$2.94</td>\n      <td>$38.24</td>\n      <td>$3.19</td>\n    </tr>\n  </tbody>\n</table>\n</div>"
     },
     "metadata": {},
     "execution_count": 9
    }
   ],
   "source": [
    "# Establish Bins for Ages & Create Corresponding Names For The Bins\n",
    "bins = [0, 9, 14, 19, 24, 29, 34, 39, 46]\n",
    "groups_names = [\"<10\", \"10-14\", \"15-19\", \"20-24\", \"25-29\", \"30-34\", \"35-39\", \"40+\"]\n",
    "\n",
    "# Place Data Series Into New Column Inside DataFrame\n",
    "purchase_data[\"Age Group\"] = pd.cut(purchase_data[\"Age\"], bins=age_bins, labels=groups_names)\n",
    "\n",
    "# Calculate \"Purchase Count\"\n",
    "age_purchase_count = age_group[\"SN\"].count()\n",
    "\n",
    "# Calculate \"Average Purchase Price\"\n",
    "avg_age_purchase_price = round(age_group[\"Price\"].mean(),2)\n",
    "\n",
    "# Calculate \"Total Purchase Value\"\n",
    "total_age_purchase_value = round(age_group[\"Price\"].sum(),2)\n",
    "\n",
    "# Calculate \"Avg Total Purchase per Person\"\n",
    "avg_total_age_purchase_person = round(total_age_purchase_value / total_count_age,2)\n",
    "\n",
    "# Create Summary DataFrame\n",
    "age_purchasing_analysis_table = pd.DataFrame({\n",
    "    \"Purchase Count\": age_purchase_count, \n",
    "    \"Average Purchase Price\": avg_age_purchase_price,\n",
    "    \"Total Purchase Value\": total_age_purchase_value,\n",
    "    \"Avg Total Purchase per Person\": avg_total_age_purchase_person\n",
    "})\n",
    "\n",
    "age_purchasing_analysis_table[\"Average Purchase Price\"] = age_purchasing_analysis_table[\"Average Purchase Price\"].map(\"${0:,.2f}\".format)\n",
    "age_purchasing_analysis_table[\"Total Purchase Value\"] = age_purchasing_analysis_table[\"Total Purchase Value\"].map(\"${0:,.2f}\".format)\n",
    "age_purchasing_analysis_table[\"Avg Total Purchase per Person\"] = age_purchasing_analysis_table[\"Avg Total Purchase per Person\"].map(\"${0:,.2f}\".format)\n",
    "age_purchasing_analysis_table"
   ]
  },
  {
   "cell_type": "code",
   "execution_count": 10,
   "metadata": {},
   "outputs": [
    {
     "output_type": "execute_result",
     "data": {
      "text/plain": "             Purchase Count Average Purchase Price Total Purchase Value\nSN                                                                     \nLisosia93                 5                  $3.79               $18.96\nIdastidru52               4                  $3.86               $15.45\nChamjask73                3                  $4.61               $13.83\nIral74                    4                  $3.40               $13.62\nIskadarya95               3                  $4.37               $13.10",
      "text/html": "<div>\n<style scoped>\n    .dataframe tbody tr th:only-of-type {\n        vertical-align: middle;\n    }\n\n    .dataframe tbody tr th {\n        vertical-align: top;\n    }\n\n    .dataframe thead th {\n        text-align: right;\n    }\n</style>\n<table border=\"1\" class=\"dataframe\">\n  <thead>\n    <tr style=\"text-align: right;\">\n      <th></th>\n      <th>Purchase Count</th>\n      <th>Average Purchase Price</th>\n      <th>Total Purchase Value</th>\n    </tr>\n    <tr>\n      <th>SN</th>\n      <th></th>\n      <th></th>\n      <th></th>\n    </tr>\n  </thead>\n  <tbody>\n    <tr>\n      <th>Lisosia93</th>\n      <td>5</td>\n      <td>$3.79</td>\n      <td>$18.96</td>\n    </tr>\n    <tr>\n      <th>Idastidru52</th>\n      <td>4</td>\n      <td>$3.86</td>\n      <td>$15.45</td>\n    </tr>\n    <tr>\n      <th>Chamjask73</th>\n      <td>3</td>\n      <td>$4.61</td>\n      <td>$13.83</td>\n    </tr>\n    <tr>\n      <th>Iral74</th>\n      <td>4</td>\n      <td>$3.40</td>\n      <td>$13.62</td>\n    </tr>\n    <tr>\n      <th>Iskadarya95</th>\n      <td>3</td>\n      <td>$4.37</td>\n      <td>$13.10</td>\n    </tr>\n  </tbody>\n</table>\n</div>"
     },
     "metadata": {},
     "execution_count": 10
    }
   ],
   "source": [
    "# Identify the Top 5 Spenders in the Game by Total Purchase Value & GroupBy \"SN\"\n",
    "top_spenders = purchase_data.groupby(\"SN\")\n",
    "\n",
    "# Calculate \"Purchase Count\"\n",
    "spender_purchase_count = top_spenders[\"Purchase ID\"].count()\n",
    "\n",
    "# Calculate \"Average Purchase Price\"\n",
    "average_spender_purchase_price = round(top_spenders[\"Price\"].mean(),2)\n",
    "\n",
    "# Calculate \"Total Purchase Value\"\n",
    "total_spender_purchase_value = top_spenders[\"Price\"].sum()\n",
    "\n",
    "# Create Summary DataFrame\n",
    "top_spenders_table = pd.DataFrame({ \n",
    "    \"Purchase Count\": spender_purchase_count,\n",
    "    \"Average Purchase Price\": average_spender_purchase_price,\n",
    "    \"Total Purchase Value\": total_spender_purchase_value\n",
    "})\n",
    "\n",
    "sort_top_spenders = top_spenders_table.sort_values([\"Total Purchase Value\"], ascending=False).head()\n",
    "sort_top_spenders[\"Average Purchase Price\"] = sort_top_spenders[\"Average Purchase Price\"].astype(float).map(\"${:,.2f}\".format)\n",
    "sort_top_spenders[\"Total Purchase Value\"] = sort_top_spenders[\"Total Purchase Value\"].astype(float).map(\"${:,.2f}\".format)\n",
    "sort_top_spenders"
   ]
  },
  {
   "cell_type": "code",
   "execution_count": 11,
   "metadata": {},
   "outputs": [
    {
     "output_type": "execute_result",
     "data": {
      "text/plain": "                                                      Purchase Count  \\\nItem ID Item Name                                                      \n92      Final Critic                                              13   \n178     Oathbreaker, Last Hope of the Breaking Storm              12   \n145     Fiery Glass Crusader                                       9   \n132     Persuasion                                                 9   \n108     Extraction, Quickblade Of Trembling Hands                  9   \n\n                                                     Item Price  \\\nItem ID Item Name                                                 \n92      Final Critic                                      $4.61   \n178     Oathbreaker, Last Hope of the Breaking Storm      $4.23   \n145     Fiery Glass Crusader                              $4.58   \n132     Persuasion                                        $3.22   \n108     Extraction, Quickblade Of Trembling Hands         $3.53   \n\n                                                     Total Purchase Value  \nItem ID Item Name                                                          \n92      Final Critic                                               $59.99  \n178     Oathbreaker, Last Hope of the Breaking Storm               $50.76  \n145     Fiery Glass Crusader                                       $41.22  \n132     Persuasion                                                 $28.99  \n108     Extraction, Quickblade Of Trembling Hands                  $31.77  ",
      "text/html": "<div>\n<style scoped>\n    .dataframe tbody tr th:only-of-type {\n        vertical-align: middle;\n    }\n\n    .dataframe tbody tr th {\n        vertical-align: top;\n    }\n\n    .dataframe thead th {\n        text-align: right;\n    }\n</style>\n<table border=\"1\" class=\"dataframe\">\n  <thead>\n    <tr style=\"text-align: right;\">\n      <th></th>\n      <th></th>\n      <th>Purchase Count</th>\n      <th>Item Price</th>\n      <th>Total Purchase Value</th>\n    </tr>\n    <tr>\n      <th>Item ID</th>\n      <th>Item Name</th>\n      <th></th>\n      <th></th>\n      <th></th>\n    </tr>\n  </thead>\n  <tbody>\n    <tr>\n      <th>92</th>\n      <th>Final Critic</th>\n      <td>13</td>\n      <td>$4.61</td>\n      <td>$59.99</td>\n    </tr>\n    <tr>\n      <th>178</th>\n      <th>Oathbreaker, Last Hope of the Breaking Storm</th>\n      <td>12</td>\n      <td>$4.23</td>\n      <td>$50.76</td>\n    </tr>\n    <tr>\n      <th>145</th>\n      <th>Fiery Glass Crusader</th>\n      <td>9</td>\n      <td>$4.58</td>\n      <td>$41.22</td>\n    </tr>\n    <tr>\n      <th>132</th>\n      <th>Persuasion</th>\n      <td>9</td>\n      <td>$3.22</td>\n      <td>$28.99</td>\n    </tr>\n    <tr>\n      <th>108</th>\n      <th>Extraction, Quickblade Of Trembling Hands</th>\n      <td>9</td>\n      <td>$3.53</td>\n      <td>$31.77</td>\n    </tr>\n  </tbody>\n</table>\n</div>"
     },
     "metadata": {},
     "execution_count": 11
    }
   ],
   "source": [
    "# Identify the 5 Most Popular Items by Creating New DataFrame\n",
    "popular_items_list = purchase_data[[\"Item ID\", \"Item Name\", \"Price\"]]\n",
    "\n",
    "# GroupBy \"Item ID\" & \"Item Name\"\n",
    "popular_items = popular_items_list.groupby([\"Item ID\",\"Item Name\"])\n",
    "\n",
    "# Calculate \"Purchase Count\"\n",
    "item_purchase_count = popular_items[\"Price\"].count()\n",
    "\n",
    "# Calculate \"Item Price\"\n",
    "item_price = popular_items[\"Price\"].sum()\n",
    "\n",
    "# Calculate \"Total Purchase Value\" \n",
    "item_purchase_value = item_price / item_purchase_count\n",
    "\n",
    "# Create Summary DataFrame\n",
    "most_popular_items = pd.DataFrame({\n",
    "    \"Purchase Count\": item_purchase_count, \n",
    "    \"Item Price\": item_purchase_value,\n",
    "    \"Total Purchase Value\": item_price\n",
    "})\n",
    "\n",
    "popular_items_formatted = most_popular_items.sort_values([\"Purchase Count\"], ascending=False).head()\n",
    "popular_items_formatted[\"Item Price\"] = popular_items_formatted[\"Item Price\"].astype(float).map(\"${:,.2f}\".format)\n",
    "popular_items_formatted[\"Total Purchase Value\"] = popular_items_formatted[\"Total Purchase Value\"].astype(float).map(\"${:,.2f}\".format)\n",
    "popular_items_formatted"
   ]
  },
  {
   "cell_type": "code",
   "execution_count": 12,
   "metadata": {},
   "outputs": [
    {
     "output_type": "execute_result",
     "data": {
      "text/plain": "                                                      Purchase Count  \\\nItem ID Item Name                                                      \n92      Final Critic                                              13   \n178     Oathbreaker, Last Hope of the Breaking Storm              12   \n82      Nirvana                                                    9   \n145     Fiery Glass Crusader                                       9   \n103     Singed Scalpel                                             8   \n\n                                                     Item Price  \\\nItem ID Item Name                                                 \n92      Final Critic                                      $4.61   \n178     Oathbreaker, Last Hope of the Breaking Storm      $4.23   \n82      Nirvana                                           $4.90   \n145     Fiery Glass Crusader                              $4.58   \n103     Singed Scalpel                                    $4.35   \n\n                                                     Total Purchase Value  \nItem ID Item Name                                                          \n92      Final Critic                                               $59.99  \n178     Oathbreaker, Last Hope of the Breaking Storm               $50.76  \n82      Nirvana                                                    $44.10  \n145     Fiery Glass Crusader                                       $41.22  \n103     Singed Scalpel                                             $34.80  ",
      "text/html": "<div>\n<style scoped>\n    .dataframe tbody tr th:only-of-type {\n        vertical-align: middle;\n    }\n\n    .dataframe tbody tr th {\n        vertical-align: top;\n    }\n\n    .dataframe thead th {\n        text-align: right;\n    }\n</style>\n<table border=\"1\" class=\"dataframe\">\n  <thead>\n    <tr style=\"text-align: right;\">\n      <th></th>\n      <th></th>\n      <th>Purchase Count</th>\n      <th>Item Price</th>\n      <th>Total Purchase Value</th>\n    </tr>\n    <tr>\n      <th>Item ID</th>\n      <th>Item Name</th>\n      <th></th>\n      <th></th>\n      <th></th>\n    </tr>\n  </thead>\n  <tbody>\n    <tr>\n      <th>92</th>\n      <th>Final Critic</th>\n      <td>13</td>\n      <td>$4.61</td>\n      <td>$59.99</td>\n    </tr>\n    <tr>\n      <th>178</th>\n      <th>Oathbreaker, Last Hope of the Breaking Storm</th>\n      <td>12</td>\n      <td>$4.23</td>\n      <td>$50.76</td>\n    </tr>\n    <tr>\n      <th>82</th>\n      <th>Nirvana</th>\n      <td>9</td>\n      <td>$4.90</td>\n      <td>$44.10</td>\n    </tr>\n    <tr>\n      <th>145</th>\n      <th>Fiery Glass Crusader</th>\n      <td>9</td>\n      <td>$4.58</td>\n      <td>$41.22</td>\n    </tr>\n    <tr>\n      <th>103</th>\n      <th>Singed Scalpel</th>\n      <td>8</td>\n      <td>$4.35</td>\n      <td>$34.80</td>\n    </tr>\n  </tbody>\n</table>\n</div>"
     },
     "metadata": {},
     "execution_count": 12
    }
   ],
   "source": [
    "popular_items_formatted = most_popular_items.sort_values([\"Total Purchase Value\"], ascending=False).head()\n",
    "popular_items_formatted[\"Item Price\"] = popular_items_formatted[\"Item Price\"].astype(float).map(\"${:,.2f}\".format)\n",
    "popular_items_formatted[\"Total Purchase Value\"] = popular_items_formatted[\"Total Purchase Value\"].astype(float).map(\"${:,.2f}\".format)\n",
    "popular_items_formatted"
   ]
  },
  {
   "cell_type": "code",
   "execution_count": 18,
   "metadata": {},
   "outputs": [],
   "source": [
    "# Export File As CSV\n",
    "purchase_data.to_csv(\"purchase_data_revised.csv\", index=False, header=True)"
   ]
  },
  {
   "cell_type": "code",
   "execution_count": null,
   "metadata": {},
   "outputs": [],
   "source": []
  }
 ],
 "metadata": {
  "language_info": {
   "codemirror_mode": {
    "name": "ipython",
    "version": 3
   },
   "file_extension": ".py",
   "mimetype": "text/x-python",
   "name": "python",
   "nbconvert_exporter": "python",
   "pygments_lexer": "ipython3",
   "version": "3.8.2-final"
  },
  "orig_nbformat": 2,
  "kernelspec": {
   "name": "python3",
   "display_name": "Python 3"
  }
 },
 "nbformat": 4,
 "nbformat_minor": 2
}